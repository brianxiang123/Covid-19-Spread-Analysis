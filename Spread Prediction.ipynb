{
 "cells": [
  {
   "cell_type": "markdown",
   "id": "26e31477",
   "metadata": {},
   "source": [
    "# Spread Prediction"
   ]
  },
  {
   "cell_type": "markdown",
   "id": "28e3b99e",
   "metadata": {},
   "source": [
    "# The idea is to use data set to determine probabilities (Poisson-Gamma)\n",
    "\n",
    "data comes from a poisson distirbution, number of cases per timestamp (average cases per timestamp) <- not exactly since data will all be exponenential, will depend on data set, we can also fit data sets to graphs based on residuals.\n",
    "\n",
    "$y_i|\\lambda \\sim Pois(\\lambda)$\n",
    "\n",
    "We use a non-informative prior\n",
    "\n",
    "$\\lambda \\sim Gamma(1/2, 0)$\n",
    "\n",
    "$\\lambda \\sim Gamma(\\sum y_i + 1/2, n)$\n",
    "\n",
    "\n"
   ]
  },
  {
   "cell_type": "code",
   "execution_count": null,
   "id": "dfb2dcfc",
   "metadata": {},
   "outputs": [],
   "source": []
  }
 ],
 "metadata": {
  "kernelspec": {
   "display_name": "Python 3 (ipykernel)",
   "language": "python",
   "name": "python3"
  },
  "language_info": {
   "codemirror_mode": {
    "name": "ipython",
    "version": 3
   },
   "file_extension": ".py",
   "mimetype": "text/x-python",
   "name": "python",
   "nbconvert_exporter": "python",
   "pygments_lexer": "ipython3",
   "version": "3.10.2"
  }
 },
 "nbformat": 4,
 "nbformat_minor": 5
}
