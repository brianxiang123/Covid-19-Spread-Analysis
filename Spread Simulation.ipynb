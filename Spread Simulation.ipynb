{
 "cells": [
  {
   "cell_type": "markdown",
   "id": "8cb109e2",
   "metadata": {},
   "source": [
    "# This Notebook analyzes how different Markov chains affect the spread and of a disease"
   ]
  },
  {
   "cell_type": "code",
   "execution_count": 4,
   "id": "825e4555",
   "metadata": {},
   "outputs": [],
   "source": [
    "import numpy as np\n",
    "import matplotlib.pyplot as plt\n",
    "from scipy.integrate import solve_ivp # to solve ODE IVPs < look up how to use\n",
    "import seaborn as sns\n",
    "import pandas as pd"
   ]
  },
  {
   "cell_type": "code",
   "execution_count": 1,
   "id": "f14ab8e6",
   "metadata": {},
   "outputs": [],
   "source": [
    "# Constants\n",
    "\n",
    "S = 100\n",
    "I = 100\n",
    "R = 100\n",
    "\n",
    "N = S + I + R\n",
    "\n",
    "s = S/N\n",
    "i = I/N\n",
    "r = R/N"
   ]
  },
  {
   "cell_type": "code",
   "execution_count": null,
   "id": "d4c90c9a",
   "metadata": {},
   "outputs": [],
   "source": [
    "# Function to solve for and graph SIR\n",
    "\n",
    "#y[0] = S, y[1] = I, y[2] = R\n",
    "def fun(t, y):\n",
    "    y[0] = -b * s * I\n",
    "    y[1] = b * s * i - k * i\n",
    "    y[2] = k * i\n",
    "\n",
    "    return \n"
   ]
  },
  {
   "cell_type": "code",
   "execution_count": null,
   "id": "a566cd29",
   "metadata": {},
   "outputs": [],
   "source": [
    "# Structuringa markov chain "
   ]
  }
 ],
 "metadata": {
  "kernelspec": {
   "display_name": "Python 3 (ipykernel)",
   "language": "python",
   "name": "python3"
  },
  "language_info": {
   "codemirror_mode": {
    "name": "ipython",
    "version": 3
   },
   "file_extension": ".py",
   "mimetype": "text/x-python",
   "name": "python",
   "nbconvert_exporter": "python",
   "pygments_lexer": "ipython3",
   "version": "3.10.2"
  }
 },
 "nbformat": 4,
 "nbformat_minor": 5
}
